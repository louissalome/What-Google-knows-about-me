{
 "cells": [
  {
   "cell_type": "markdown",
   "metadata": {},
   "source": [
    "# Exploring my locations recorded by Google\n",
    "\n",
    "# YouTube data"
   ]
  },
  {
   "cell_type": "markdown",
   "metadata": {},
   "source": [
    "You can ask Google for your personal data on YouTube. For each video you've started, you can get title, channel and date of click. There is no information about watchtime or used device.\n",
    "\n",
    "We can tackles many issues with this data :\n",
    "* How many videos do I watch every day?\n",
    "* What time do I usually watch YouTube?\n",
    "* Do I behave similarly on different weekdays?\n",
    "* What are the channels I watched the most?"
   ]
  },
  {
   "cell_type": "code",
   "execution_count": 1,
   "metadata": {},
   "outputs": [],
   "source": [
    "import calendar\n",
    "import json\n",
    "import matplotlib.pyplot as plt\n",
    "import numpy as np\n",
    "import random as rd\n",
    "import os\n",
    "import pandas as pd\n",
    "\n",
    "from datetime import datetime, date\n",
    "import calendar\n",
    "from math import ceil\n",
    "from os.path import join\n",
    "from pprint import pprint\n",
    "from tqdm import tqdm"
   ]
  },
  {
   "cell_type": "markdown",
   "metadata": {},
   "source": [
    "## 2. My watch history, by Youtube."
   ]
  },
  {
   "cell_type": "markdown",
   "metadata": {},
   "source": [
    "### 2.1 Parse data from .html"
   ]
  },
  {
   "cell_type": "code",
   "execution_count": 2,
   "metadata": {},
   "outputs": [
    {
     "name": "stdout",
     "output_type": "stream",
     "text": [
      "watch-history file path : \n",
      "C:\\Users\\Louis\\Documents\\PersonalData\\takeout-20190611T194806Z-001\\Takeout\\YouTube\\historique\\watch-history.html\n",
      "\n"
     ]
    }
   ],
   "source": [
    "# path to json\n",
    "path = r'C:\\Users\\Louis\\Documents\\PersonalData'\n",
    "takeouts = os.listdir(path)\n",
    "takeout = 'takeout-20190611T194806Z-001'\n",
    "takeout_path = join(path,takeout,'Takeout')\n",
    "file_path = join(takeout_path,'YouTube','historique','watch-history.html')\n",
    "print(f\"watch-history file path : \\n{file_path}\\n\")"
   ]
  },
  {
   "cell_type": "code",
   "execution_count": 3,
   "metadata": {},
   "outputs": [
    {
     "name": "stdout",
     "output_type": "stream",
     "text": [
      "File length : 16086163 characters.\n",
      "21178 videos found.\n"
     ]
    }
   ],
   "source": [
    "with open(file_path, 'rb') as f:\n",
    "    txt = f.read()\n",
    "\n",
    "print(f\"File length : {len(txt)} characters.\")\n",
    "\n",
    "items = txt.decode(encoding='utf-8').split('A regardé')[1:]\n",
    "nb_items = len(items)\n",
    "print(f\"{nb_items} videos found.\")"
   ]
  },
  {
   "cell_type": "markdown",
   "metadata": {},
   "source": [
    "This file is an .html. It's painful to parse it. I did it in a basic way by cleaning a bit the code and spliting with tag closing symbol \">\"."
   ]
  },
  {
   "cell_type": "code",
   "execution_count": 4,
   "metadata": {
    "scrolled": false
   },
   "outputs": [
    {
     "name": "stdout",
     "output_type": "stream",
     "text": [
      "{'channel': 'Yung Mavu',\n",
      " 'tim': '2014-01-01-00-00-00',\n",
      " 'timestamp': '1388534400',\n",
      " 'title': 'Yung Mavu - BLACK MAGIC ( Black Harry Potter )'}\n"
     ]
    }
   ],
   "source": [
    "ind = rd.randint(1,10000)\n",
    "item = items[ind]\n",
    "\n",
    "def clean_item(item):\n",
    "    # Clean a bit the code\n",
    "    substrings_to_remove = [\n",
    "        '<br>',\n",
    "        '<div>',\n",
    "        '</div>',\n",
    "        '<div',\n",
    "        '</div',\n",
    "        '<b',\n",
    "        '</b',\n",
    "        '<a',\n",
    "        '</a',\n",
    "    ]\n",
    "    for s in substrings_to_remove:\n",
    "        item = item.replace(s,'')\n",
    "    item = item.replace('&#39', \"'\")\n",
    "    item = item.replace('&amp', \"&\")\n",
    "    # Split into items\n",
    "    item = item.split('>')\n",
    "    item = [a for a in item if len(a)>1]\n",
    "    # Parse infos\n",
    "    infos = {}\n",
    "    infos['title'] = item[1]\n",
    "    infos['channel'] = item[3]\n",
    "    # convert date (painful...)\n",
    "    video_date = item[4]\n",
    "    month_dict = {\n",
    "        'janv.':'01',\n",
    "        'févr.':'02',\n",
    "        'mars':'03',\n",
    "        'avr.':'04',\n",
    "        'mai':'05',\n",
    "        'juin':'06',\n",
    "        'juil.':'07',\n",
    "        'août':'08',\n",
    "        'sept.':'09',\n",
    "        'oct.':'10',\n",
    "        'nov.':'11',\n",
    "        'déc.':'12',\n",
    "    }\n",
    "    for month_str, month_nb in month_dict.items():\n",
    "        video_date = video_date.replace(month_str, month_nb)\n",
    "    try :\n",
    "        video_datetime = datetime.strptime(video_date,'%d %m %Y à %H:%M:%S UTC')\n",
    "    except :\n",
    "        # my parsing is not good, sometimes an information is missing\n",
    "        # in the html file, and I catch it like this...\n",
    "        # I should have declared None types for missing data\n",
    "        video_datetime = datetime(2014, 1, 1, 0, 0, 0)\n",
    "    video_timestamp = calendar.timegm(video_datetime.timetuple())\n",
    "    video_date = str(video_datetime)\n",
    "    video_date = video_date.replace(' ','-')\n",
    "    video_date = video_date.replace(':','-')\n",
    "    infos['timestamp'] = str(video_timestamp)\n",
    "    infos['tim'] = video_date\n",
    "    return infos\n",
    "\n",
    "pprint(clean_item(item))"
   ]
  },
  {
   "cell_type": "markdown",
   "metadata": {},
   "source": [
    "Now we can fill a dataframe with processed data."
   ]
  },
  {
   "cell_type": "code",
   "execution_count": null,
   "metadata": {},
   "outputs": [
    {
     "name": "stderr",
     "output_type": "stream",
     "text": [
      "100%|███████████████████████████████████| 21178/21178 [00:37<00:00, 570.96it/s]\n"
     ]
    }
   ],
   "source": [
    "# init dateframe\n",
    "df = pd.DataFrame(\n",
    "    data=np.array([['']*4 for _ in range(nb_items)]),\n",
    "    columns=['tim','timestamp','title','channel'],\n",
    ")\n",
    "\n",
    "# filling dataframe\n",
    "for ind, item in tqdm(enumerate(items), total=nb_items):\n",
    "    infos = clean_item(item)\n",
    "    tim = infos['tim']\n",
    "    title = infos['title']\n",
    "    channel = infos['channel']\n",
    "    timestamp = infos['timestamp']\n",
    "    df.title[ind] = title\n",
    "    df.channel[ind] = channel\n",
    "    df.tim[ind] = tim\n",
    "    df.timestamp[ind] = timestamp\n",
    "\n",
    "# bug catching ...\n",
    "df = df.loc[df.timestamp!='1388534400']"
   ]
  },
  {
   "cell_type": "markdown",
   "metadata": {},
   "source": [
    "### 2.2 Analysis"
   ]
  },
  {
   "cell_type": "markdown",
   "metadata": {},
   "source": [
    "Overall summary of my clicks grouped by weeks."
   ]
  },
  {
   "cell_type": "code",
   "execution_count": null,
   "metadata": {},
   "outputs": [],
   "source": [
    "# Dates of data recording\n",
    "def per_week(df,title=''):\n",
    "    plt.figure(figsize=(12,5))\n",
    "    plt.title('Dates of data recording')\n",
    "    nb_of_elapsed_weeks = int((df.timestamp.astype(int).max() - df.timestamp.astype(int).min())/(60*60*24*7))\n",
    "    n_bins=nb_of_elapsed_weeks\n",
    "    plt.hist(\n",
    "        df.timestamp.astype('int'),\n",
    "        bins=n_bins,\n",
    "    #     label=dates,\n",
    "    )\n",
    "    n_bins_labels = 30\n",
    "    hist, edges = np.histogram(df.timestamp.astype(int), bins=n_bins_labels)\n",
    "    dates = [str(date.fromtimestamp(a)) for a in edges]\n",
    "    plt.xticks(edges, dates, rotation=70)\n",
    "    plt.grid(True)\n",
    "    plt.xlabel(\"Dates\")\n",
    "    plt.ylabel(\"Count of videos per week\")\n",
    "    plt.title(title)\n",
    "    plt.show()\n",
    "\n",
    "per_week(df)"
   ]
  },
  {
   "cell_type": "code",
   "execution_count": null,
   "metadata": {},
   "outputs": [],
   "source": [
    "# Basic statistics\n",
    "hist, edges = np.histogram(df.timestamp.astype(int), bins=nb_of_elapsed_weeks)\n",
    "print(f\"In average, I've clicked on {int(hist.mean()/7)} videos per day...\")\n",
    "\n",
    "hist, edges = np.histogram(df.timestamp.astype(int), bins=nb_of_elapsed_weeks*7)\n",
    "print(f\"With a maximum of {hist.max()} in a single day !\")"
   ]
  },
  {
   "cell_type": "code",
   "execution_count": null,
   "metadata": {},
   "outputs": [],
   "source": [
    "print(\"By the way, there are \"\n",
    "     f\"{nb_items} videos, \"\n",
    "     f\"but there are only {len(df.title.unique())}\"\n",
    "     \" unique videos.\")"
   ]
  },
  {
   "cell_type": "markdown",
   "metadata": {},
   "source": [
    "Channels I visit the most :"
   ]
  },
  {
   "cell_type": "code",
   "execution_count": null,
   "metadata": {
    "scrolled": false
   },
   "outputs": [],
   "source": [
    "df_channels = pd.DataFrame(df.groupby('channel').count())\n",
    "df_channels = df_channels[['tim']]\n",
    "df_channels.columns = ['count']\n",
    "df_channels = df_channels.sort_values(by='count',ascending=False)\n",
    "df_channels.head(25)"
   ]
  },
  {
   "cell_type": "markdown",
   "metadata": {},
   "source": [
    "On what period have I watched a given channel?"
   ]
  },
  {
   "cell_type": "code",
   "execution_count": null,
   "metadata": {},
   "outputs": [],
   "source": [
    "per_week(df.loc[df.channel=='ZeratoR'],title='ZeratoR')\n",
    "\n",
    "per_week(df.loc[df.channel=='VINSKY'],title='VINSKY')\n",
    "\n",
    "per_week(df.loc[df.channel=='SQUEEZIE'],title='SQUEEZIE')"
   ]
  },
  {
   "cell_type": "markdown",
   "metadata": {},
   "source": [
    "What time do I watch videos?"
   ]
  },
  {
   "cell_type": "code",
   "execution_count": null,
   "metadata": {},
   "outputs": [],
   "source": [
    "def date_to_minute(date):\n",
    "    hour, minu = date.split('-')[3:5]\n",
    "    return 60*int(hour)+int(minu)\n",
    "\n",
    "def per_hour(minutes,title=''):\n",
    "    plt.figure(figsize=(12,5))\n",
    "    plt.hist(minutes, bins=24)\n",
    "    hist, edges = np.histogram(minutes, bins=24)\n",
    "    plt.xticks(edges, [ceil(a/60) for a in edges])\n",
    "    plt.grid(True)\n",
    "    plt.title(title)\n",
    "    plt.xlabel(\"Hour of the day\")\n",
    "    plt.ylabel(\"Count of clicks\")\n",
    "    plt.show()\n",
    "    \n",
    "minutes = df.tim.apply(date_to_minute)\n",
    "per_hour(minutes)"
   ]
  },
  {
   "cell_type": "markdown",
   "metadata": {},
   "source": [
    "What about weekdays?"
   ]
  },
  {
   "cell_type": "code",
   "execution_count": null,
   "metadata": {},
   "outputs": [],
   "source": [
    "def date_to_weekday(date):\n",
    "    date = datetime.strptime(date,'%Y-%m-%d-%H-%M-%S')\n",
    "    return date.weekday()\n",
    "\n",
    "weekdays = df.tim.apply(date_to_weekday)\n",
    "plt.figure(figsize=(8,5))\n",
    "plt.hist(weekdays, range=(-0.5,6.5), bins=7, align='mid', rwidth=0.3)\n",
    "plt.xticks(list(range(7)), ['Monday','Tuesday','Wednesday','Thursday','Friday','Saturday','Sunday'])\n",
    "plt.grid(True)\n",
    "plt.xlabel(\"Day of the week\")\n",
    "plt.ylabel(\"Count of clicks\")\n",
    "plt.show()"
   ]
  },
  {
   "cell_type": "markdown",
   "metadata": {},
   "source": [
    "Do I behave similarly on different weekdays?"
   ]
  },
  {
   "cell_type": "code",
   "execution_count": null,
   "metadata": {},
   "outputs": [],
   "source": [
    "minutes = df.loc[df.tim.apply(date_to_weekday) == 2].tim.apply(date_to_minute)\n",
    "per_hour(minutes, title='Tuesday')\n",
    "minutes = df.loc[df.tim.apply(date_to_weekday) == 6].tim.apply(date_to_minute)\n",
    "per_hour(minutes, title='Sunday')"
   ]
  },
  {
   "cell_type": "markdown",
   "metadata": {},
   "source": [
    "# Conclusion\n",
    "\n",
    "At first I was disappointed when I discovered there was nothing about watch time. I was really interested in the question : How long did I spent watching videos? But I finally figured out there was a lot to do with these informations about clicked videos. The most surprising was the channel ranking because it mixes up different parts of my life in a very concrete and unconfortable way."
   ]
  }
 ],
 "metadata": {
  "kernelspec": {
   "display_name": "Python 3",
   "language": "python",
   "name": "python3"
  },
  "language_info": {
   "codemirror_mode": {
    "name": "ipython",
    "version": 3
   },
   "file_extension": ".py",
   "mimetype": "text/x-python",
   "name": "python",
   "nbconvert_exporter": "python",
   "pygments_lexer": "ipython3",
   "version": "3.6.8"
  }
 },
 "nbformat": 4,
 "nbformat_minor": 2
}
